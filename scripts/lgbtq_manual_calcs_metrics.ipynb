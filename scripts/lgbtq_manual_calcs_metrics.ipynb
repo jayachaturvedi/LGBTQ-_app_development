{
 "cells": [
  {
   "cell_type": "code",
   "execution_count": null,
   "id": "b133f520-9ad9-43b4-b447-5ba818a52c62",
   "metadata": {},
   "outputs": [],
   "source": [
    "import pandas as pd\n",
    "import numpy as np\n",
    "import math"
   ]
  },
  {
   "cell_type": "code",
   "execution_count": null,
   "id": "768bb7c5-4337-4f78-b401-532abc5b6a69",
   "metadata": {},
   "outputs": [],
   "source": [
    "df = pd.read_csv('testdata.csv')\n",
    "df.head(2)"
   ]
  },
  {
   "cell_type": "code",
   "execution_count": null,
   "id": "29111367-c0e4-42c7-8460-885259142d9c",
   "metadata": {},
   "outputs": [],
   "source": [
    "df['label_goldstd'].value_counts()"
   ]
  },
  {
   "cell_type": "code",
   "execution_count": null,
   "id": "98e85b6c-8d4d-41eb-81bb-5783b98d5cc8",
   "metadata": {},
   "outputs": [],
   "source": [
    "df.columns"
   ]
  },
  {
   "cell_type": "code",
   "execution_count": null,
   "id": "4f885fb5-8586-4a3d-be26-e895501a594a",
   "metadata": {},
   "outputs": [],
   "source": [
    "df['preds'] = df['preds'].astype(str)\n",
    "df['label_goldstd'] = df['label_goldstd'].astype(str)"
   ]
  },
  {
   "cell_type": "code",
   "execution_count": null,
   "id": "be48a123-a2ea-4488-9f1c-310f396d66f5",
   "metadata": {},
   "outputs": [],
   "source": [
    "type(df['preds'][1])"
   ]
  },
  {
   "cell_type": "code",
   "execution_count": null,
   "id": "772d5812-5209-43dc-954f-b73ade8e1444",
   "metadata": {},
   "outputs": [],
   "source": [
    "type(df['label_goldstd'][1])"
   ]
  },
  {
   "cell_type": "code",
   "execution_count": null,
   "id": "43141f2c-e2f8-4e00-926b-8d985695d320",
   "metadata": {},
   "outputs": [],
   "source": [
    "df['preds'] = pd.to_numeric(df['preds'])\n",
    "df['label_goldstd'] = pd.to_numeric(df['label_goldstd'])"
   ]
  },
  {
   "cell_type": "code",
   "execution_count": null,
   "id": "9667fc4c-c2ea-46cb-8e3e-a542c3f386ba",
   "metadata": {},
   "outputs": [],
   "source": [
    "df1 = df[df['label_goldstd'] == 1].copy()  \n",
    "df0 = df[df['label_goldstd'] == 0].copy()  "
   ]
  },
  {
   "cell_type": "code",
   "execution_count": null,
   "id": "13e65459-76c1-4ae5-8937-2a116274c63b",
   "metadata": {},
   "outputs": [],
   "source": [
    "df1['label_goldstd'].value_counts()"
   ]
  },
  {
   "cell_type": "code",
   "execution_count": null,
   "id": "6f5e7345-52b6-4f37-8337-57c802016cb4",
   "metadata": {},
   "outputs": [],
   "source": [
    "df0['label_goldstd'].value_counts()"
   ]
  },
  {
   "cell_type": "markdown",
   "id": "e06dcbf9-abd5-4edd-bdee-a3ab6a3e431c",
   "metadata": {},
   "source": [
    "# For Labels"
   ]
  },
  {
   "cell_type": "code",
   "execution_count": null,
   "id": "3c1a47eb-194b-4e39-926d-0c1122d542ed",
   "metadata": {},
   "outputs": [],
   "source": [
    "df.head(2)"
   ]
  },
  {
   "cell_type": "code",
   "execution_count": null,
   "id": "393b5265-4319-4158-8293-2dc72ad32b90",
   "metadata": {},
   "outputs": [],
   "source": [
    "# if 2 labels, update accordingly \n",
    "\n",
    "def match_label(gold, pred):\n",
    "    if gold == 1 and pred == 0:\n",
    "        return \"FN\"\n",
    "    elif pred == gold == 1:\n",
    "        return \"TP\"\n",
    "    elif pred == gold == 0:\n",
    "        return \"TN\"\n",
    "    elif gold == 0 and pred == 1:\n",
    "        return \"FP\"\n",
    "    else:\n",
    "        return \"no match\"\n",
    "\n",
    "df['label_match'] = df.apply(lambda row: match_label(row['label_goldstd'], row['preds']), axis=1)\n",
    "df1['label_match'] = df1.apply(lambda row: match_label(row['label_goldstd'], row['preds']), axis=1)\n",
    "df0['label_match'] = df0.apply(lambda row: match_label(row['label_goldstd'], row['preds']), axis=1)"
   ]
  },
  {
   "cell_type": "code",
   "execution_count": null,
   "id": "d4fbafce-4ec6-4a31-8950-81626c0e33fc",
   "metadata": {},
   "outputs": [],
   "source": [
    "df['label_match'].value_counts()"
   ]
  },
  {
   "cell_type": "code",
   "execution_count": null,
   "id": "15dddc00-eee3-4552-bb44-bdb65821e1ea",
   "metadata": {},
   "outputs": [],
   "source": [
    "df1['label_match'].value_counts()"
   ]
  },
  {
   "cell_type": "code",
   "execution_count": null,
   "id": "bcb8246a-2237-48b8-90af-912d02b84135",
   "metadata": {},
   "outputs": [],
   "source": [
    "df0['label_match'].value_counts()"
   ]
  },
  {
   "cell_type": "code",
   "execution_count": null,
   "id": "5fac8e53-8113-4777-a57b-4750da38ffae",
   "metadata": {},
   "outputs": [],
   "source": [
    "count_label_metrics = df['label_match'].value_counts()\n",
    "count_label_metrics_1 = df1['label_match'].value_counts()\n",
    "count_label_metrics_0 = df0['label_match'].value_counts()"
   ]
  },
  {
   "cell_type": "code",
   "execution_count": null,
   "id": "afa2ff4f-8fee-4227-9ea2-a51e2483340a",
   "metadata": {},
   "outputs": [],
   "source": [
    "TP = count_label_metrics.get('TP', 0)\n",
    "FN = count_label_metrics.get('FN', 0)\n",
    "FP = count_label_metrics.get('FP', 0)\n",
    "TN = count_label_metrics.get('TN', 0)\n",
    "\n",
    "print(\"TP: \", TP)\n",
    "print(\"FN: \", FN)\n",
    "print(\"FP: \", FP)\n",
    "print(\"TN: \", TN)"
   ]
  },
  {
   "cell_type": "code",
   "execution_count": null,
   "id": "9c46b047-ba4f-4a7d-9ce6-d69087de7420",
   "metadata": {},
   "outputs": [],
   "source": [
    "precision = TP/(TP+FP)\n",
    "recall = TP/(TP+FN)\n",
    "f1 = 2*(precision*recall)/(precision+recall)\n",
    "\n",
    "print(\"Precision: \", precision)\n",
    "print(\"Recall: \", recall)\n",
    "print(\"F1-score: \", f1)"
   ]
  },
  {
   "cell_type": "code",
   "execution_count": null,
   "id": "12bf0376-fa41-453d-b70d-1debfcb34e39",
   "metadata": {},
   "outputs": [],
   "source": [
    "SE_precision = math.sqrt((precision*(1-precision)/(TP+FP)))\n",
    "SE_recall = math.sqrt((recall*(1-recall)/(TP+FN)))\n",
    "\n",
    "print(\"Precision std error: \", SE_precision)\n",
    "print(\"Recall std error: \", SE_recall)"
   ]
  },
  {
   "cell_type": "code",
   "execution_count": null,
   "id": "34e4a666-52f2-45b6-8447-242b76f82217",
   "metadata": {},
   "outputs": [],
   "source": [
    "z = 1.96"
   ]
  },
  {
   "cell_type": "code",
   "execution_count": null,
   "id": "f66d627d-f965-4ce1-bc89-4144393e137d",
   "metadata": {},
   "outputs": [],
   "source": [
    "precision_lower_ci = precision - (1.96*SE_precision)\n",
    "precision_upper_ci = precision + (1.96*SE_precision)\n",
    "\n",
    "recall_lower_ci = recall - (1.96*SE_recall)\n",
    "recall_upper_ci = recall + (1.96*SE_recall)\n",
    "\n",
    "f1_lower_ci = 2*(precision_lower_ci*recall_lower_ci)/(precision_lower_ci+recall_lower_ci)\n",
    "f1_upper_ci = 2*(precision_upper_ci*recall_upper_ci)/(precision_upper_ci+recall_upper_ci)\n",
    "\n",
    "print(\"Precision lower CI: \", precision_lower_ci)\n",
    "print(\"Precision upper CI: \", precision_upper_ci)\n",
    "print(\"Recall lower CI: \", recall_lower_ci)\n",
    "print(\"Recall lower CI: \", recall_upper_ci)\n",
    "print(\"F1 lower CI: \", f1_lower_ci)\n",
    "print(\"F1 lower CI: \", f1_upper_ci)"
   ]
  },
  {
   "cell_type": "code",
   "execution_count": null,
   "id": "b37230ca-e769-4cb7-9eeb-a226835ab0f3",
   "metadata": {},
   "outputs": [],
   "source": [
    "model_label_metrics = {\n",
    "    'Metric': ['F1-score', 'Precision', 'Recall'],\n",
    "    'Value': [f1, precision, recall],\n",
    "    'Lower 95% CI': [f1_lower_ci, precision_lower_ci, recall_lower_ci],\n",
    "    'Upper 95% CI': [f1_upper_ci, precision_upper_ci, recall_upper_ci]\n",
    "}"
   ]
  },
  {
   "cell_type": "code",
   "execution_count": null,
   "id": "e65d5f86-a6bb-433a-ba89-00a1b4248581",
   "metadata": {},
   "outputs": [],
   "source": [
    "df_label_metrics = pd.DataFrame(model_label_metrics)\n",
    "df_label_metrics"
   ]
  },
  {
   "cell_type": "code",
   "execution_count": null,
   "id": "cc5024d8-58d5-4c71-8430-2b3bd24bf2e0",
   "metadata": {},
   "outputs": [],
   "source": [
    "df_label_metrics.to_csv('manual_eval_metrics_jun26model.csv')"
   ]
  },
  {
   "cell_type": "code",
   "execution_count": null,
   "id": "ea0c78e7-c609-47f9-87b0-200484de9bb7",
   "metadata": {},
   "outputs": [],
   "source": []
  },
  {
   "cell_type": "code",
   "execution_count": null,
   "id": "6e030a09-8e74-4ced-8f4b-8594446e1e3a",
   "metadata": {},
   "outputs": [],
   "source": []
  },
  {
   "cell_type": "code",
   "execution_count": null,
   "id": "ef25deba-61d7-4b18-a7bc-195f6950b66b",
   "metadata": {},
   "outputs": [],
   "source": [
    "\n",
    " \n",
    "# Function to match label for class 1 and class 0\n",
    "def match_label(gold, pred):\n",
    "    if gold == 1 and pred == 0:\n",
    "        return \"FN_1\"  # False Negative for class 1\n",
    "    elif pred == gold == 1:\n",
    "        return \"TP_1\"  # True Positive for class 1\n",
    "    elif pred == gold == 0:\n",
    "        return \"TN_0\"  # True Negative for class 0\n",
    "    elif gold == 0 and pred == 1:\n",
    "        return \"FP_1\"  # False Positive for class 1\n",
    "    else:\n",
    "        return \"no match\"\n",
    " \n",
    "# Apply match_label to the dataframe\n",
    "df['label_match'] = df.apply(lambda row: match_label(row['label_goldstd'], row['preds']), axis=1)\n",
    " \n",
    "# Count the occurrences of each label match (FN, FP, TP, TN)\n",
    "count_label_metrics = df['label_match'].value_counts()\n",
    " \n",
    "# Extract metrics for class 1\n",
    "TP_1 = count_label_metrics.get('TP_1', 0)\n",
    "FN_1 = count_label_metrics.get('FN_1', 0)\n",
    "FP_1 = count_label_metrics.get('FP_1', 0)\n",
    "TN_0 = count_label_metrics.get('TN_0', 0)\n",
    " \n",
    "# Precision, Recall, F1 for class 1 (positive class)\n",
    "precision_1 = TP_1 / (TP_1 + FP_1) if (TP_1 + FP_1) > 0 else 0\n",
    "recall_1 = TP_1 / (TP_1 + FN_1) if (TP_1 + FN_1) > 0 else 0\n",
    "f1_1 = 2 * (precision_1 * recall_1) / (precision_1 + recall_1) if (precision_1 + recall_1) > 0 else 0\n",
    " \n",
    "# Extract metrics for class 0 (negative class)\n",
    "TP_0 = TN_0  # True negatives for class 0 are equivalent to TN_0\n",
    "FP_0 = FN_1  # False negatives for class 1 are false positives for class 0\n",
    "FN_0 = FP_1  # False positives for class 1 are false negatives for class 0\n",
    "TN_1 = TP_1  # True positives for class 1 are true negatives for class 0\n",
    " \n",
    "# Precision, Recall, F1 for class 0 (negative class)\n",
    "precision_0 = TP_0 / (TP_0 + FP_0) if (TP_0 + FP_0) > 0 else 0\n",
    "recall_0 = TP_0 / (TP_0 + FN_0) if (TP_0 + FN_0) > 0 else 0\n",
    "f1_0 = 2 * (precision_0 * recall_0) / (precision_0 + recall_0) if (precision_0 + recall_0) > 0 else 0\n",
    " \n",
    "# Standard error calculations for both classes\n",
    "SE_precision_1 = math.sqrt((precision_1 * (1 - precision_1)) / (TP_1 + FP_1)) if (TP_1 + FP_1) > 0 else 0\n",
    "SE_recall_1 = math.sqrt((recall_1 * (1 - recall_1)) / (TP_1 + FN_1)) if (TP_1 + FN_1) > 0 else 0\n",
    " \n",
    "SE_precision_0 = math.sqrt((precision_0 * (1 - precision_0)) / (TP_0 + FP_0)) if (TP_0 + FP_0) > 0 else 0\n",
    "SE_recall_0 = math.sqrt((recall_0 * (1 - recall_0)) / (TP_0 + FN_0)) if (TP_0 + FN_0) > 0 else 0\n",
    " \n",
    "# Confidence intervals for both classes\n",
    "precision_1_lower_ci = precision_1 - (1.96 * SE_precision_1)\n",
    "precision_1_upper_ci = precision_1 + (1.96 * SE_precision_1)\n",
    " \n",
    "recall_1_lower_ci = recall_1 - (1.96 * SE_recall_1)\n",
    "recall_1_upper_ci = recall_1 + (1.96 * SE_recall_1)\n",
    " \n",
    "precision_0_lower_ci = precision_0 - (1.96 * SE_precision_0)\n",
    "precision_0_upper_ci = precision_0 + (1.96 * SE_precision_0)\n",
    " \n",
    "recall_0_lower_ci = recall_0 - (1.96 * SE_recall_0)\n",
    "recall_0_upper_ci = recall_0 + (1.96 * SE_recall_0)\n",
    " \n",
    "# F1 confidence intervals for class 1\n",
    "f1_1_lower_ci = 2 * (precision_1_lower_ci * recall_1_lower_ci) / (precision_1_lower_ci + recall_1_lower_ci) if (precision_1_lower_ci + recall_1_lower_ci) > 0 else 0\n",
    "f1_1_upper_ci = 2 * (precision_1_upper_ci * recall_1_upper_ci) / (precision_1_upper_ci + recall_1_upper_ci) if (precision_1_upper_ci + recall_1_upper_ci) > 0 else 0\n",
    " \n",
    "# F1 confidence intervals for class 0\n",
    "f1_0_lower_ci = 2 * (precision_0_lower_ci * recall_0_lower_ci) / (precision_0_lower_ci + recall_0_lower_ci) if (precision_0_lower_ci + recall_0_lower_ci) > 0 else 0\n",
    "f1_0_upper_ci = 2 * (precision_0_upper_ci * recall_0_upper_ci) / (precision_0_upper_ci + recall_0_upper_ci) if (precision_0_upper_ci + recall_0_upper_ci) > 0 else 0\n",
    " \n",
    "# Create a DataFrame for metrics\n",
    "model_label_metrics = {\n",
    "    'Metric': ['F1-score Class 1', 'Precision Class 1', 'Recall Class 1',\n",
    "               'F1-score Class 0', 'Precision Class 0', 'Recall Class 0'],\n",
    "    'Value': [f1_1, precision_1, recall_1, f1_0, precision_0, recall_0],\n",
    "    'Lower 95% CI': [f1_1_lower_ci, precision_1_lower_ci, recall_1_lower_ci, f1_0_lower_ci, precision_0_lower_ci, recall_0_lower_ci],\n",
    "    'Upper 95% CI': [f1_1_upper_ci, precision_1_upper_ci, recall_1_upper_ci, f1_0_upper_ci, precision_0_upper_ci, recall_0_upper_ci]\n",
    "}\n",
    " \n",
    "df_label_metrics = pd.DataFrame(model_label_metrics)\n",
    "print(df_label_metrics)\n"
   ]
  },
  {
   "cell_type": "code",
   "execution_count": null,
   "id": "1a8fafe2-b05e-4699-94c0-d11ab298f4ec",
   "metadata": {},
   "outputs": [],
   "source": [
    "df_label_metrics.to_csv('manual_eval_metrics_classes_jun26model.csv')"
   ]
  },
  {
   "cell_type": "code",
   "execution_count": null,
   "id": "6ac8cd31-b69f-48a2-af0f-c3d220c44a90",
   "metadata": {},
   "outputs": [],
   "source": []
  }
 ],
 "metadata": {
  "kernelspec": {
   "display_name": "Python 3 (ipykernel)",
   "language": "python",
   "name": "python3"
  },
  "language_info": {
   "codemirror_mode": {
    "name": "ipython",
    "version": 3
   },
   "file_extension": ".py",
   "mimetype": "text/x-python",
   "name": "python",
   "nbconvert_exporter": "python",
   "pygments_lexer": "ipython3",
   "version": "3.11.6"
  }
 },
 "nbformat": 4,
 "nbformat_minor": 5
}
