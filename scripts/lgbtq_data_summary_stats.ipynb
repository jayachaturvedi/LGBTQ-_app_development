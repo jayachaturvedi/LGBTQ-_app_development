{
 "cells": [
  {
   "cell_type": "code",
   "execution_count": null,
   "id": "95c4506f-b9e3-4bb2-98b6-153b1ab4143b",
   "metadata": {},
   "outputs": [],
   "source": [
    "!python --version"
   ]
  },
  {
   "cell_type": "code",
   "execution_count": null,
   "id": "025fc136-0afc-4451-b800-af34dd851892",
   "metadata": {},
   "outputs": [],
   "source": [
    "# import required packages\n",
    "\n",
    "import spacy\n",
    "import pandas as pd\n",
    "import json\n",
    "import random\n",
    "import re\n",
    "import string\n",
    "import nltk\n",
    "from collections import Counter\n",
    " \n",
    "from spacy.tokens import Doc\n",
    "from spacy.training import Example\n",
    "from spacy.training import offsets_to_biluo_tags\n",
    "from spacy.scorer import Scorer\n",
    "from spacy.util import minibatch, compounding\n",
    "from spacy.pipeline.spancat import DEFAULT_SPANCAT_MODEL\n",
    "from spacy import displacy\n",
    "\n",
    "from nltk.tokenize import word_tokenize\n",
    "nltk.download('punkt')\n",
    "from nltk.corpus import stopwords\n",
    "nltk.download('stopwords')\n",
    "\n",
    "from tqdm import tqdm"
   ]
  },
  {
   "cell_type": "code",
   "execution_count": null,
   "id": "6f5612dd-1b23-4bfa-ab69-dd5b35b91a17",
   "metadata": {},
   "outputs": [],
   "source": [
    "print(spacy.__version__)"
   ]
  },
  {
   "cell_type": "code",
   "execution_count": null,
   "id": "2a5e1bad-1ac1-4620-b559-072fb3b1dfce",
   "metadata": {},
   "outputs": [],
   "source": [
    "df = pd.read_csv('DATA-final-for-NLP.csv')"
   ]
  },
  {
   "cell_type": "code",
   "execution_count": null,
   "id": "14f8889c-db54-463f-b90b-0f8d5117afd6",
   "metadata": {},
   "outputs": [],
   "source": [
    "df.head()"
   ]
  },
  {
   "cell_type": "code",
   "execution_count": null,
   "id": "71984383-77a2-4322-ac65-b33b4b0105a9",
   "metadata": {},
   "outputs": [],
   "source": [
    "df['MH_final_label'].value_counts()"
   ]
  },
  {
   "cell_type": "markdown",
   "id": "10bff43f-d3c8-45e1-89f9-ec442b507dd5",
   "metadata": {},
   "source": [
    "1 - + LGBTQ+ \\\n",
    "2 - - LGBTQ+ \\\n",
    "3 - unclear \\\n",
    "4 - irrelevant"
   ]
  },
  {
   "cell_type": "code",
   "execution_count": null,
   "id": "14d15379-d32a-43b4-a2dc-fe873aa6f83a",
   "metadata": {},
   "outputs": [],
   "source": [
    "len(df)"
   ]
  },
  {
   "cell_type": "code",
   "execution_count": null,
   "id": "16b8e17f-0ca5-4e69-8ba6-20ff1ee7c1fb",
   "metadata": {},
   "outputs": [],
   "source": [
    "df = df.dropna(subset=['MH_final_label'])"
   ]
  },
  {
   "cell_type": "code",
   "execution_count": null,
   "id": "d44a5dd5-19d0-47b5-ade2-84686ae0c9af",
   "metadata": {},
   "outputs": [],
   "source": [
    "len(df)"
   ]
  },
  {
   "cell_type": "code",
   "execution_count": null,
   "id": "f05ea783-e4e2-4e10-8a64-8a72ad09a8b6",
   "metadata": {},
   "outputs": [],
   "source": [
    "# Creating a new column to get binary labels\n",
    "def create_new_column(value):\n",
    "    if value == 1:\n",
    "        return 1\n",
    "    elif value in [0, 2, 3, 4]:\n",
    "        return 0\n",
    "    else:\n",
    "        return None  \n",
    "\n",
    "# Applying the custom function to create the new column\n",
    "df['binary_labels'] = df['MH_final_label'].apply(create_new_column)\n",
    "\n"
   ]
  },
  {
   "cell_type": "code",
   "execution_count": null,
   "id": "bdb6b777-2506-4ea5-9a74-07522f9c8de7",
   "metadata": {},
   "outputs": [],
   "source": [
    "df.head()"
   ]
  },
  {
   "cell_type": "code",
   "execution_count": null,
   "id": "e9d61815-2b58-4694-89a2-3955efcecb9b",
   "metadata": {},
   "outputs": [],
   "source": [
    "df['binary_labels'].value_counts()"
   ]
  },
  {
   "cell_type": "code",
   "execution_count": null,
   "id": "25fc394c-adf0-4b1e-a23d-d32c855ee491",
   "metadata": {},
   "outputs": [],
   "source": [
    "df['binary_labels'].value_counts(normalize=True)"
   ]
  },
  {
   "cell_type": "code",
   "execution_count": null,
   "id": "87c29aec-ba2f-4f89-88e7-f6e02300fa9d",
   "metadata": {},
   "outputs": [],
   "source": [
    "df.to_csv('data_for_training.csv')"
   ]
  },
  {
   "cell_type": "code",
   "execution_count": null,
   "id": "fd36408e-1248-4355-8f93-ea4cdcc2cd6c",
   "metadata": {},
   "outputs": [],
   "source": []
  }
 ],
 "metadata": {
  "kernelspec": {
   "display_name": "Python 3 (ipykernel)",
   "language": "python",
   "name": "python3"
  },
  "language_info": {
   "codemirror_mode": {
    "name": "ipython",
    "version": 3
   },
   "file_extension": ".py",
   "mimetype": "text/x-python",
   "name": "python",
   "nbconvert_exporter": "python",
   "pygments_lexer": "ipython3",
   "version": "3.11.6"
  }
 },
 "nbformat": 4,
 "nbformat_minor": 5
}
